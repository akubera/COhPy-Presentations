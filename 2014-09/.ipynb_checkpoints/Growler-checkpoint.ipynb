{
 "cells": [
  {
   "cell_type": "markdown",
   "metadata": {},
   "source": [
    "# Growler\n",
    "\n",
    "> COhPy - Jan 25, 2016\n",
    "\n",
    "> Andrew Kubera"
   ]
  },
  {
   "cell_type": "markdown",
   "metadata": {},
   "source": [
    "## Python 3.4\n",
    "\n",
    "* Includes a new module : `asyncio`\n",
    "  * \"Single-threaded concurrent code using coroutines\"\n",
    "  * Already available for python via external libraries like Tornado, Diesel, Greenlets… etc.\n",
    "    * These do not currently use the built-in library (backwards compatible)\n",
    "  * There are a few new frameworks emerging which do utilize asyncio: Vase, Rainfall "
   ]
  },
  {
   "cell_type": "markdown",
   "metadata": {},
   "source": [
    "## Growler\n",
    "\n",
    "* Yet another python web framework\n",
    "* A web framework which utilizes the asyncio module at its core\n",
    "  * Is that enough?\n",
    "* Use a middleware-based style similar to nodejs' Connect/Express frameworks \n",
    "\n",
    "> People like Python; people like Express… why not?"
   ]
  },
  {
   "cell_type": "markdown",
   "metadata": {},
   "source": [
    "## Extensive use of Middleware\n",
    "\n",
    "* Web application designed as a pipe\n",
    "* Add middleware functions which process the request and response and pass to next function\n",
    "\n",
    "* ```python\n",
    "app.use(_middleware_)\n",
    "app.get('/path', endpoint)\n",
    "app.post('/user/logout', logout)\n",
    "```\n",
    "\n",
    "* middleware can be run to redirect requests, render templates, parse specific requests (websockets/authentication, etc…)"
   ]
  },
  {
   "cell_type": "markdown",
   "metadata": {},
   "source": [
    "## Running\n",
    "```python\n",
    "import growler\n",
    "\n",
    "app = growler.App()\n",
    "…\n",
    "app.get('/', get_index)\n",
    "app.post('/', post_index)\n",
    "\n",
    "app.run()\n",
    "```"
   ]
  },
  {
   "cell_type": "markdown",
   "metadata": {},
   "source": [
    "## Running with Decorators\n",
    "```python\n",
    "@app.get('/')\n",
    "def index(req, res, next):\n",
    "\tif req.username:\n",
    "\t\tuser = req.username\n",
    "\t\tres.send(\"hello\" + user)\n",
    "\telse:\n",
    "\t\tres.send(\"who are you?\")\n",
    "\n",
    "app.run()\n",
    "```"
   ]
  },
  {
   "cell_type": "markdown",
   "metadata": {},
   "source": [
    "## Things I’ve learned\n",
    "* Asyncio coroutines are not “normal” python coroutines\n",
    "  * Cannot 'send' a value to a yield\n",
    "* Wrap functions in tasks! (yield from them)"
   ]
  },
  {
   "cell_type": "markdown",
   "metadata": {},
   "source": [
    "## Wishlist\n",
    "\n",
    "* Decorated classes\n",
    "  * Class-Based middleware\n",
    "* Route \"overlap\"\n",
    "  * /user/id\n",
    "  * /user/name"
   ]
  }
 ],
 "metadata": {
  "kernelspec": {
   "display_name": "Python 3",
   "language": "python",
   "name": "python3"
  },
  "language_info": {
   "codemirror_mode": {
    "name": "ipython",
    "version": 3
   },
   "file_extension": ".py",
   "mimetype": "text/x-python",
   "name": "python",
   "nbconvert_exporter": "python",
   "pygments_lexer": "ipython3",
   "version": "3.5.1"
  }
 },
 "nbformat": 4,
 "nbformat_minor": 0
}
