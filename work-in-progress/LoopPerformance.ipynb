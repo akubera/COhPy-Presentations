{
 "cells": [
  {
   "cell_type": "markdown",
   "metadata": {},
   "source": [
    "# Python Loop Performance\n",
    "> Andrew Kubera"
   ]
  },
  {
   "cell_type": "markdown",
   "metadata": {},
   "source": [
    "Q: You have a collection, or some iterator/generator, and you want to apply some function to each item. How do you do it?"
   ]
  },
  {
   "cell_type": "markdown",
   "metadata": {},
   "source": [
    "If you don't want to create a new collection, just do for loop\n",
    "```python\n",
    "for x in things:\n",
    "    func(x)\n",
    "```"
   ]
  },
  {
   "cell_type": "markdown",
   "metadata": {},
   "source": [
    "If you DO want to create a new collection, do NOT\n",
    "```python\n",
    ">>> result = []\n",
    ">>> for x in things:\n",
    ">>>     result.append(func(x))\n",
    "```\n",
    "do\n",
    "```python\n",
    ">>> result = [func(x) for x in things]\n",
    "```"
   ]
  },
  {
   "cell_type": "markdown",
   "metadata": {},
   "source": [
    "But there *may* be a better way!\n",
    "\n",
    "`map(function, *iterables)`"
   ]
  },
  {
   "cell_type": "markdown",
   "metadata": {},
   "source": [
    "```python\n",
    "result = map(func, things) # WRONG\n",
    "```\n",
    "\n",
    "result is now a 'map' object (iterable) - not a collection."
   ]
  },
  {
   "cell_type": "markdown",
   "metadata": {},
   "source": [
    "Wrap in a collection (list, tuple, set, etc...) to get your result"
   ]
  },
  {
   "cell_type": "markdown",
   "metadata": {},
   "source": [
    "```python\n",
    "result = list(map(func, things))\n",
    "result == [func(x) for x in things] # True!\n",
    "```"
   ]
  },
  {
   "cell_type": "markdown",
   "metadata": {},
   "source": [
    "But which is better? "
   ]
  },
  {
   "cell_type": "code",
   "execution_count": 11,
   "metadata": {
    "collapsed": false
   },
   "outputs": [
    {
     "name": "stdout",
     "output_type": "stream",
     "text": [
      "The Zen of Python, by Tim Peters\n",
      "\n",
      "Beautiful is better than ugly.\n",
      "Explicit is better than implicit.\n",
      "Simple is better than complex.\n",
      "Complex is better than complicated.\n",
      "Flat is better than nested.\n",
      "Sparse is better than dense.\n",
      "Readability counts.\n",
      "Special cases aren't special enough to break the rules.\n",
      "Although practicality beats purity.\n",
      "Errors should never pass silently.\n",
      "Unless explicitly silenced.\n",
      "In the face of ambiguity, refuse the temptation to guess.\n",
      "There should be one-- and preferably only one --obvious way to do it.\n",
      "Although that way may not be obvious at first unless you're Dutch.\n",
      "Now is better than never.\n",
      "Although never is often better than *right* now.\n",
      "If the implementation is hard to explain, it's a bad idea.\n",
      "If the implementation is easy to explain, it may be a good idea.\n",
      "Namespaces are one honking great idea -- let's do more of those!\n"
     ]
    }
   ],
   "source": [
    "import this"
   ]
  },
  {
   "cell_type": "markdown",
   "metadata": {},
   "source": [
    "I care about performance, so let's do some timeit examples"
   ]
  },
  {
   "cell_type": "code",
   "execution_count": 45,
   "metadata": {
    "collapsed": false
   },
   "outputs": [
    {
     "name": "stdout",
     "output_type": "stream",
     "text": [
      "3.5.2 (default, Jun 29 2016, 16:37:27) \n",
      "[GCC 4.2.1 Compatible Apple LLVM 7.3.0 (clang-703.0.31)]\n",
      "---\n",
      "Darwin Kernel Version 15.5.0: Tue Apr 19 18:36:36 PDT 2016; root:xnu-3248.50.21~8/RELEASE_X86_64 x86_64 i386\n"
     ]
    }
   ],
   "source": [
    "import sys, platform\n",
    "print(sys.version)\n",
    "print(\"---\")\n",
    "print(*platform.uname()[3:])"
   ]
  },
  {
   "cell_type": "markdown",
   "metadata": {},
   "source": [
    "---\n",
    "Transform a list of numbers into hex strings"
   ]
  },
  {
   "cell_type": "code",
   "execution_count": 53,
   "metadata": {
    "collapsed": false
   },
   "outputs": [
    {
     "data": {
      "text/plain": [
       "'0x3d'"
      ]
     },
     "execution_count": 53,
     "metadata": {},
     "output_type": "execute_result"
    }
   ],
   "source": [
    "hex(61)"
   ]
  },
  {
   "cell_type": "code",
   "execution_count": 60,
   "metadata": {
    "collapsed": false
   },
   "outputs": [
    {
     "name": "stdout",
     "output_type": "stream",
     "text": [
      "10000 loops, best of 3: 79.5 µs per loop\n",
      "1000 loops, best of 3: 897 µs per loop\n",
      "100 loops, best of 3: 10.2 ms per loop\n"
     ]
    }
   ],
   "source": [
    "%timeit [hex(x) for x in range(500)]\n",
    "%timeit [hex(x) for x in range(5000)]\n",
    "%timeit [hex(x) for x in range(50000)]"
   ]
  },
  {
   "cell_type": "code",
   "execution_count": 61,
   "metadata": {
    "collapsed": false,
    "scrolled": true
   },
   "outputs": [
    {
     "name": "stdout",
     "output_type": "stream",
     "text": [
      "10000 loops, best of 3: 70.8 µs per loop\n",
      "1000 loops, best of 3: 815 µs per loop\n",
      "100 loops, best of 3: 9.19 ms per loop\n"
     ]
    }
   ],
   "source": [
    "%timeit list(map(hex, range(500)))\n",
    "%timeit list(map(hex, range(5000)))\n",
    "%timeit list(map(hex, range(50000)))"
   ]
  },
  {
   "cell_type": "code",
   "execution_count": 82,
   "metadata": {
    "collapsed": false
   },
   "outputs": [
    {
     "data": {
      "text/plain": [
       "'10.943, 9.142, 9.902'"
      ]
     },
     "execution_count": 82,
     "metadata": {},
     "output_type": "execute_result"
    }
   ],
   "source": [
    "\"%.3f, %0.3f, %0.3f\" % ((79.5 - 70.8) / 0.795, (897 - 815) / 8.97, (10.2 - 9.19) / .102)"
   ]
  },
  {
   "cell_type": "markdown",
   "metadata": {},
   "source": [
    "There should be no reason why tuples or lists should be more efficient"
   ]
  },
  {
   "cell_type": "code",
   "execution_count": 65,
   "metadata": {
    "collapsed": false
   },
   "outputs": [
    {
     "name": "stdout",
     "output_type": "stream",
     "text": [
      "10000 loops, best of 3: 70.2 µs per loop\n",
      "1000 loops, best of 3: 852 µs per loop\n",
      "100 loops, best of 3: 9.39 ms per loop\n"
     ]
    }
   ],
   "source": [
    "%timeit tuple(map(hex, range(500)))\n",
    "%timeit tuple(map(hex, range(5000)))\n",
    "%timeit tuple(map(hex, range(50000)))"
   ]
  },
  {
   "cell_type": "markdown",
   "metadata": {},
   "source": [
    "Let's try again with a `lambda` calling hex instead of just hex.\n",
    "\n",
    "There is no reason why this should be faster, and I don't expect it to be"
   ]
  },
  {
   "cell_type": "code",
   "execution_count": 67,
   "metadata": {
    "collapsed": false
   },
   "outputs": [
    {
     "name": "stdout",
     "output_type": "stream",
     "text": [
      "10000 loops, best of 3: 130 µs per loop\n",
      "1000 loops, best of 3: 1.43 ms per loop\n",
      "100 loops, best of 3: 15.8 ms per loop\n"
     ]
    }
   ],
   "source": [
    "%timeit list(map(lambda i: hex(i), range(500)))\n",
    "%timeit list(map(lambda i: hex(i), range(5000)))\n",
    "%timeit list(map(lambda i: hex(i), range(50000)))"
   ]
  },
  {
   "cell_type": "markdown",
   "metadata": {},
   "source": [
    "Hmm, looks like map is winning if the method is right there, but using the lambda slows it down by A LOT."
   ]
  },
  {
   "cell_type": "markdown",
   "metadata": {
    "collapsed": false
   },
   "source": [
    "Give a little math to the library - hex the square of each number"
   ]
  },
  {
   "cell_type": "code",
   "execution_count": 85,
   "metadata": {
    "collapsed": false
   },
   "outputs": [
    {
     "name": "stdout",
     "output_type": "stream",
     "text": [
      "1000 loops, best of 3: 274 µs per loop\n",
      "500 loops, best of 3: 2.89 ms per loop\n",
      "200 loops, best of 3: 32.7 ms per loop\n"
     ]
    }
   ],
   "source": [
    "%timeit -n 1000 [hex(x ** 2) for x in range(500)]\n",
    "%timeit -n 500  [hex(x ** 2) for x in range(5000)]\n",
    "%timeit -n 200  [hex(x ** 2) for x in range(50000)]"
   ]
  },
  {
   "cell_type": "code",
   "execution_count": 84,
   "metadata": {
    "collapsed": false
   },
   "outputs": [
    {
     "name": "stdout",
     "output_type": "stream",
     "text": [
      "1000 loops, best of 3: 346 µs per loop\n",
      "500 loops, best of 3: 3.5 ms per loop\n",
      "200 loops, best of 3: 37.5 ms per loop\n"
     ]
    }
   ],
   "source": [
    "%timeit -n 1000 list(map(lambda i: hex(i ** 2), range(500)))\n",
    "%timeit -n 500  list(map(lambda i: hex(i ** 2), range(5000)))\n",
    "%timeit -n 200  list(map(lambda i: hex(i ** 2), range(50000)))"
   ]
  },
  {
   "cell_type": "code",
   "execution_count": 86,
   "metadata": {
    "collapsed": false
   },
   "outputs": [
    {
     "data": {
      "text/plain": [
       "'-26.277, -21.107, -14.679'"
      ]
     },
     "execution_count": 86,
     "metadata": {},
     "output_type": "execute_result"
    }
   ],
   "source": [
    "\"%.3f, %0.3f, %0.3f\" % ((274 - 346) / 2.74, (2.89 - 3.50) / .0289, (32.7 - 37.5) / 0.327)"
   ]
  },
  {
   "cell_type": "markdown",
   "metadata": {},
   "source": [
    "hmm, decrease in efficiency by ~20%!!"
   ]
  },
  {
   "cell_type": "code",
   "execution_count": 76,
   "metadata": {
    "collapsed": false
   },
   "outputs": [
    {
     "name": "stdout",
     "output_type": "stream",
     "text": [
      "1000 loops, best of 3: 307 µs per loop\n",
      "1000 loops, best of 3: 3.18 ms per loop\n",
      "1000 loops, best of 3: 34.6 ms per loop\n"
     ]
    }
   ],
   "source": [
    "%timeit -n 1000 list((hex(i ** 2) for i in range(500)))\n",
    "%timeit -n 1000 list((hex(i ** 2) for i in range(5000)))\n",
    "%timeit -n 1000 list((hex(i ** 2) for i in range(50000)))"
   ]
  },
  {
   "cell_type": "markdown",
   "metadata": {},
   "source": [
    "Huh, that's actually worse than the list comprehension from before, too bad."
   ]
  },
  {
   "cell_type": "code",
   "execution_count": 77,
   "metadata": {
    "collapsed": false
   },
   "outputs": [
    {
     "name": "stdout",
     "output_type": "stream",
     "text": [
      "1000 loops, best of 3: 304 µs per loop\n",
      "400 loops, best of 3: 3.17 ms per loop\n",
      "100 loops, best of 3: 34.7 ms per loop\n"
     ]
    }
   ],
   "source": [
    "%timeit -n 1000 list(map(hex, (i ** 2 for i in range(500))))\n",
    "%timeit -n 400  list(map(hex, (i ** 2 for i in range(5000))))\n",
    "%timeit -n 100  list(map(hex, (i ** 2 for i in range(50000))))"
   ]
  },
  {
   "cell_type": "code",
   "execution_count": 78,
   "metadata": {
    "collapsed": false
   },
   "outputs": [
    {
     "name": "stdout",
     "output_type": "stream",
     "text": [
      "1000 loops, best of 3: 324 µs per loop\n",
      "400 loops, best of 3: 3.31 ms per loop\n",
      "100 loops, best of 3: 35.5 ms per loop\n"
     ]
    }
   ],
   "source": [
    "%timeit -n 1000 [hex(i) for i in (i ** 2 for i in range(500))]\n",
    "%timeit -n 400  [hex(i) for i in (i ** 2 for i in range(5000))]\n",
    "%timeit -n 100  [hex(i) for i in (i ** 2 for i in range(50000))]"
   ]
  },
  {
   "cell_type": "code",
   "execution_count": 79,
   "metadata": {
    "collapsed": false
   },
   "outputs": [
    {
     "name": "stdout",
     "output_type": "stream",
     "text": [
      "1000 loops, best of 3: 358 µs per loop\n",
      "500 loops, best of 3: 3.46 ms per loop\n",
      "100 loops, best of 3: 38 ms per loop\n"
     ]
    }
   ],
   "source": [
    "def hexsquare(x):\n",
    "    return hex(x ** 2)\n",
    "\n",
    "%timeit -n 1000 list(map(hexsquare, range(500)))\n",
    "%timeit -n 500  list(map(hexsquare, range(5000)))\n",
    "%timeit -n 100  list(map(hexsquare, range(50000)))"
   ]
  },
  {
   "cell_type": "markdown",
   "metadata": {},
   "source": [
    "The lambda performs better than the function by a marginal amount ~2%"
   ]
  },
  {
   "cell_type": "code",
   "execution_count": null,
   "metadata": {
    "collapsed": true
   },
   "outputs": [],
   "source": []
  }
 ],
 "metadata": {
  "kernelspec": {
   "display_name": "Python 3",
   "language": "python",
   "name": "python3"
  },
  "language_info": {
   "codemirror_mode": {
    "name": "ipython",
    "version": 3
   },
   "file_extension": ".py",
   "mimetype": "text/x-python",
   "name": "python",
   "nbconvert_exporter": "python",
   "pygments_lexer": "ipython3",
   "version": "3.5.2"
  },
  "widgets": {
   "state": {},
   "version": "1.1.2"
  }
 },
 "nbformat": 4,
 "nbformat_minor": 0
}
