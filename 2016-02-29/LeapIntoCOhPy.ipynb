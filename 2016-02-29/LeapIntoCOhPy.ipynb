{
 "cells": [
  {
   "cell_type": "markdown",
   "metadata": {
    "collapsed": true
   },
   "source": [
    "# *Leap* into COhPy\n",
    "> Andrew Kubera <br> 2016-02-**29**"
   ]
  },
  {
   "cell_type": "markdown",
   "metadata": {},
   "source": [
    "##  Problem:\n",
    "\n",
    "This year (2016) the Central Ohio Python User Group (COhPy) meeting falls on a leap day. The meeting is held on the last Monday of the month. What is the next year which will have a meeting on the leap day?"
   ]
  },
  {
   "cell_type": "markdown",
   "metadata": {},
   "source": [
    "---\n",
    "I will use the standard python `datetime` module"
   ]
  },
  {
   "cell_type": "code",
   "execution_count": 1,
   "metadata": {
    "collapsed": false
   },
   "outputs": [],
   "source": [
    "import datetime"
   ]
  },
  {
   "cell_type": "markdown",
   "metadata": {},
   "source": [
    "Use `isoweekday` date method to see if a date is a monday (i.e. 1)"
   ]
  },
  {
   "cell_type": "code",
   "execution_count": 2,
   "metadata": {
    "collapsed": false
   },
   "outputs": [
    {
     "data": {
      "text/plain": [
       "1"
      ]
     },
     "execution_count": 2,
     "metadata": {},
     "output_type": "execute_result"
    }
   ],
   "source": [
    "c = datetime.date(2016, 2, 29)\n",
    "c.isoweekday()"
   ]
  },
  {
   "cell_type": "markdown",
   "metadata": {},
   "source": [
    "Use `datetime.timedelta` to shift by four years and one day, to get to next leap year"
   ]
  },
  {
   "cell_type": "code",
   "execution_count": 3,
   "metadata": {
    "collapsed": false
   },
   "outputs": [
    {
     "name": "stdout",
     "output_type": "stream",
     "text": [
      "2020-02-29 (Day of week: 6)\n"
     ]
    }
   ],
   "source": [
    "d = c + datetime.timedelta(days=365 * 4 + 1)\n",
    "print(d, \"(Day of week: %d)\" % d.isoweekday())"
   ]
  },
  {
   "cell_type": "markdown",
   "metadata": {},
   "source": [
    "## Solution:"
   ]
  },
  {
   "cell_type": "code",
   "execution_count": 4,
   "metadata": {
    "collapsed": false
   },
   "outputs": [
    {
     "name": "stdout",
     "output_type": "stream",
     "text": [
      "2044-02-29\n"
     ]
    }
   ],
   "source": [
    "four_years = datetime.timedelta(days=365 * 4 + 1)\n",
    "d = datetime.date(2016, 2, 29) + four_years\n",
    "while d.isoweekday() != 1:\n",
    "    d += four_years\n",
    "print(d)"
   ]
  },
  {
   "cell_type": "markdown",
   "metadata": {
    "collapsed": false
   },
   "source": [
    "#### Alt-Solution (using generator)"
   ]
  },
  {
   "cell_type": "code",
   "execution_count": 5,
   "metadata": {
    "collapsed": false
   },
   "outputs": [],
   "source": [
    "def leaps(year=2016):\n",
    "    \"\"\"\n",
    "    Generator yielding leap days after specified year (default 2016)\n",
    "    \"\"\"\n",
    "    year = int(year)\n",
    "    try:\n",
    "        prev_year = datetime.date(year, 2, 29)\n",
    "    except ValueError:\n",
    "        year = math.floor(year / 4) * 4\n",
    "        year -= 4 * (year % 400 != 0)\n",
    "        prev_year = datetime.date(year, 2, 29)\n",
    "\n",
    "    while True:\n",
    "        d = prev_year + datetime.timedelta(days=365 * 4 + 1)\n",
    "        # correct for those years that are NOT leap years\n",
    "        if d.day != 29:\n",
    "            d += datetime.timedelta(days=365 * 4)\n",
    "        yield d\n",
    "        prev_year = d"
   ]
  },
  {
   "cell_type": "code",
   "execution_count": 6,
   "metadata": {
    "collapsed": false
   },
   "outputs": [
    {
     "name": "stdout",
     "output_type": "stream",
     "text": [
      "2044-02-29\n"
     ]
    }
   ],
   "source": [
    "for d in leaps():\n",
    "    if d.isoweekday() == 1:\n",
    "        print(d)\n",
    "        break"
   ]
  },
  {
   "cell_type": "markdown",
   "metadata": {},
   "source": [
    "#### Can't stop the fun!"
   ]
  },
  {
   "cell_type": "code",
   "execution_count": 7,
   "metadata": {
    "collapsed": true
   },
   "outputs": [],
   "source": [
    "def monday_leaps():\n",
    "    \"\"\"Yield leap-days which fall on monday\"\"\"    \n",
    "    yield from filter(lambda d: d.isoweekday() == 1, leaps())"
   ]
  },
  {
   "cell_type": "markdown",
   "metadata": {},
   "source": [
    "### Next 15 leap-meetings"
   ]
  },
  {
   "cell_type": "code",
   "execution_count": 8,
   "metadata": {
    "collapsed": false
   },
   "outputs": [
    {
     "name": "stdout",
     "output_type": "stream",
     "text": [
      "2044-02-29\n",
      "2072-02-29\n",
      "2112-02-29\n",
      "2140-02-29\n",
      "2168-02-29\n",
      "2196-02-29\n",
      "2208-02-29\n",
      "2236-02-29\n",
      "2264-02-29\n",
      "2292-02-29\n",
      "2304-02-29\n",
      "2332-02-29\n",
      "2360-02-29\n",
      "2388-02-29\n",
      "2416-02-29\n"
     ]
    }
   ],
   "source": [
    "for d, _ in zip(monday_leaps(), range(15)):\n",
    "    print(d)"
   ]
  },
  {
   "cell_type": "markdown",
   "metadata": {},
   "source": [
    "### Generalize!"
   ]
  },
  {
   "cell_type": "code",
   "execution_count": 9,
   "metadata": {
    "collapsed": false
   },
   "outputs": [],
   "source": [
    "from functools import partial\n",
    "\n",
    "def dotw_leap(target=1, start_year=2016, stop_year=None):\n",
    "    \"\"\"\n",
    "    day-of-the-week leap selector. Generate leap days that fall on a specific day of the week.\n",
    "    \"\"\"\n",
    "    for d in leaps(start_year):\n",
    "        if d.isoweekday() != target:\n",
    "            continue\n",
    "        if stop_year is not None and d.year >= stop_year:\n",
    "            break\n",
    "        yield d\n",
    "                \n",
    "monday_leaps_1776_3000 = partial(dotw_leap, 1, 1776, 3000)"
   ]
  },
  {
   "cell_type": "code",
   "execution_count": 10,
   "metadata": {
    "collapsed": false
   },
   "outputs": [
    {
     "name": "stdout",
     "output_type": "stream",
     "text": [
      "1796-02-29\n",
      "1808-02-29\n",
      "1836-02-29\n",
      "1864-02-29\n",
      "1892-02-29\n",
      "1904-02-29\n",
      "1932-02-29\n",
      "1960-02-29\n",
      "1988-02-29\n",
      "2016-02-29\n",
      "2044-02-29\n",
      "2072-02-29\n",
      "2112-02-29\n",
      "2140-02-29\n",
      "2168-02-29\n",
      "2196-02-29\n",
      "2208-02-29\n",
      "2236-02-29\n",
      "2264-02-29\n",
      "2292-02-29\n",
      "2304-02-29\n",
      "2332-02-29\n",
      "2360-02-29\n",
      "2388-02-29\n",
      "2416-02-29\n",
      "2444-02-29\n",
      "2472-02-29\n",
      "2512-02-29\n",
      "2540-02-29\n",
      "2568-02-29\n",
      "2596-02-29\n",
      "2608-02-29\n",
      "2636-02-29\n",
      "2664-02-29\n",
      "2692-02-29\n",
      "2704-02-29\n",
      "2732-02-29\n",
      "2760-02-29\n",
      "2788-02-29\n",
      "2816-02-29\n",
      "2844-02-29\n",
      "2872-02-29\n",
      "2912-02-29\n",
      "2940-02-29\n",
      "2968-02-29\n",
      "2996-02-29\n"
     ]
    }
   ],
   "source": [
    "for d in monday_leaps_1776_3000():\n",
    "    print(d)"
   ]
  },
  {
   "cell_type": "code",
   "execution_count": 11,
   "metadata": {
    "collapsed": true
   },
   "outputs": [],
   "source": [
    "tuesday_leaps = partial(dotw_leap, 2)"
   ]
  },
  {
   "cell_type": "code",
   "execution_count": 12,
   "metadata": {
    "collapsed": false
   },
   "outputs": [
    {
     "name": "stdout",
     "output_type": "stream",
     "text": [
      "2028-02-29\n",
      "2056-02-29\n",
      "2084-02-29\n",
      "2124-02-29\n",
      "2152-02-29\n",
      "2180-02-29\n",
      "2220-02-29\n",
      "2248-02-29\n",
      "2276-02-29\n",
      "2316-02-29\n",
      "2344-02-29\n",
      "2372-02-29\n"
     ]
    }
   ],
   "source": [
    "for d in tuesday_leaps(stop_year=2400):\n",
    "    print(d)"
   ]
  },
  {
   "cell_type": "code",
   "execution_count": null,
   "metadata": {
    "collapsed": true
   },
   "outputs": [],
   "source": []
  }
 ],
 "metadata": {
  "kernelspec": {
   "display_name": "Python 3",
   "language": "python",
   "name": "python3"
  },
  "language_info": {
   "codemirror_mode": {
    "name": "ipython",
    "version": 3
   },
   "file_extension": ".py",
   "mimetype": "text/x-python",
   "name": "python",
   "nbconvert_exporter": "python",
   "pygments_lexer": "ipython3",
   "version": "3.5.1"
  }
 },
 "nbformat": 4,
 "nbformat_minor": 0
}
