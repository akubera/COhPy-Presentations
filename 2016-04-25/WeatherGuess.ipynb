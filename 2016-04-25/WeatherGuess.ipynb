{
 "cells": [
  {
   "cell_type": "markdown",
   "metadata": {
    "slideshow": {
     "slide_type": "slide"
    }
   },
   "source": [
    "# Weather Guess\n",
    "\n",
    "### COhPy Challenge Issued Mar, 2016\n",
    "\n",
    "> Andrew Kubera"
   ]
  },
  {
   "cell_type": "markdown",
   "metadata": {
    "slideshow": {
     "slide_type": "slide"
    }
   },
   "source": [
    "# Part One\n",
    "\n",
    "### Given a month, return list of dates in that month that COhPy has met "
   ]
  },
  {
   "cell_type": "markdown",
   "metadata": {
    "slideshow": {
     "slide_type": "slide"
    }
   },
   "source": [
    "Use the powerful **`dateutil`** module. This gives us a great `relativedelta` class which allows specifying things such as \"last monday of month\""
   ]
  },
  {
   "cell_type": "code",
   "execution_count": 1,
   "metadata": {
    "collapsed": false,
    "slideshow": {
     "slide_type": "slide"
    }
   },
   "outputs": [],
   "source": [
    "from dateutil.relativedelta import relativedelta\n",
    "from dateutil.parser import parse as parse_datetime\n",
    "\n",
    "# days of the week constants\n",
    "from dateutil.rrule import MO, TU, WE, TH, FR, SA, SU\n",
    "\n",
    "from datetime import *"
   ]
  },
  {
   "cell_type": "code",
   "execution_count": 2,
   "metadata": {
    "collapsed": false,
    "slideshow": {
     "slide_type": "subslide"
    }
   },
   "outputs": [],
   "source": [
    "class DateFinder:\n",
    "    \n",
    "    EPOCH = parse_datetime('September 28, 2009')\n",
    "    \n",
    "    # jump to last day (31 for all months) then backtrack to previous monday \n",
    "    LAST_MONDAY_OF_MONTH = relativedelta(day=31, weekday=MO(-1))\n",
    "    \n",
    "    # a special case for May - second to last monday of month\n",
    "    SECOND_TO_LAST_MONDAY_OF_MONTH = relativedelta(day=31, weekday=MO(-2))\n",
    "    \n",
    "    # jump back one year\n",
    "    PREVIOUS_YEAR = relativedelta(years=-1)\n",
    "    \n",
    "    def __init__(self, monthname):\n",
    "        \"\"\"\n",
    "        Create the finder from the name of a month.\n",
    "        :param monthname (str): Long or short name of a month (English).\n",
    "        \"\"\"\n",
    "        start_date = parse_datetime(monthname) \n",
    "        delta_rule = self.delta_rule_for_month(start_date.month)\n",
    "        start_date += delta_rule\n",
    "        if start_date > datetime.today():\n",
    "            start_date += self.PREVIOUS_YEAR + delta_rule\n",
    "\n",
    "        self.month = start_date.month\n",
    "        self.start = start_date\n",
    "        self.delta = delta_rule\n",
    "\n",
    "    @staticmethod\n",
    "    def delta_rule_for_month(month):\n",
    "        # special November case\n",
    "        if month == 11:\n",
    "            return relativedelta(year=1970)\n",
    "\n",
    "        # special December case - find first monday after the 3rd\n",
    "        elif month == 12:\n",
    "            return relativedelta(day=3, weekday=MO(1))\n",
    "\n",
    "        # sepcial May case - second to last monday\n",
    "        elif month == 5:\n",
    "            return DateFinder.SECOND_TO_LAST_MONDAY_OF_MONTH\n",
    "\n",
    "        # general case\n",
    "        else:\n",
    "            return DateFinder.LAST_MONDAY_OF_MONTH\n",
    "\n",
    "    def __iter__(self):\n",
    "        # loop until we go past the 'EPOCH' date\n",
    "        n = self.start\n",
    "        while n >= self.EPOCH:\n",
    "            yield n\n",
    "            n += relativedelta(years=-1) + self.delta\n",
    "\n",
    "    def __str__(self):\n",
    "        return ', '.join(map(lambda dt: dt.strftime(\"%m/%d/%Y\"), self))"
   ]
  },
  {
   "cell_type": "code",
   "execution_count": 3,
   "metadata": {
    "collapsed": false
   },
   "outputs": [
    {
     "data": {
      "text/plain": [
       "[datetime.datetime(2016, 1, 25, 0, 0),\n",
       " datetime.datetime(2015, 1, 26, 0, 0),\n",
       " datetime.datetime(2014, 1, 27, 0, 0),\n",
       " datetime.datetime(2013, 1, 28, 0, 0),\n",
       " datetime.datetime(2012, 1, 30, 0, 0),\n",
       " datetime.datetime(2011, 1, 31, 0, 0),\n",
       " datetime.datetime(2010, 1, 25, 0, 0)]"
      ]
     },
     "execution_count": 3,
     "metadata": {},
     "output_type": "execute_result"
    }
   ],
   "source": [
    "list(DateFinder('Jan'))"
   ]
  },
  {
   "cell_type": "code",
   "execution_count": 4,
   "metadata": {
    "collapsed": false
   },
   "outputs": [
    {
     "name": "stdout",
     "output_type": "stream",
     "text": [
      "Jan: 01/25/2016, 01/26/2015, 01/27/2014, 01/28/2013, 01/30/2012, 01/31/2011, 01/25/2010\n",
      "Feb: 02/29/2016, 02/23/2015, 02/24/2014, 02/25/2013, 02/27/2012, 02/28/2011, 02/22/2010\n",
      "Mar: 03/28/2016, 03/30/2015, 03/31/2014, 03/25/2013, 03/26/2012, 03/28/2011, 03/29/2010\n",
      "Apr: 04/25/2016, 04/27/2015, 04/28/2014, 04/29/2013, 04/30/2012, 04/25/2011, 04/26/2010\n",
      "May: 05/18/2015, 05/19/2014, 05/20/2013, 05/21/2012, 05/23/2011, 05/24/2010\n",
      "Jun: 06/29/2015, 06/30/2014, 06/24/2013, 06/25/2012, 06/27/2011, 06/28/2010\n",
      "Jul: 07/27/2015, 07/28/2014, 07/29/2013, 07/30/2012, 07/25/2011, 07/26/2010\n",
      "Aug: 08/31/2015, 08/25/2014, 08/26/2013, 08/27/2012, 08/29/2011, 08/30/2010\n",
      "Sep: 09/28/2015, 09/29/2014, 09/30/2013, 09/24/2012, 09/26/2011, 09/27/2010, 09/28/2009\n",
      "Oct: 10/26/2015, 10/27/2014, 10/28/2013, 10/29/2012, 10/31/2011, 10/25/2010, 10/26/2009\n",
      "Nov: \n",
      "Dec: 12/07/2015, 12/08/2014, 12/09/2013, 12/03/2012, 12/05/2011, 12/06/2010, 12/07/2009\n"
     ]
    }
   ],
   "source": [
    "months = \"Jan Feb Mar Apr May Jun Jul Aug Sep Oct Nov Dec\".split()\n",
    "\n",
    "print(\"\\n\".join(\"%s: %s\" % (mo, DateFinder(mo)) for mo in months))"
   ]
  },
  {
   "cell_type": "markdown",
   "metadata": {
    "slideshow": {
     "slide_type": "slide"
    }
   },
   "source": [
    "# Part Two\n",
    "\n",
    "### Given a set of dates (particularly the dates returned in Part One), return the high temperature in Columbus, Ohio at the airport (weather station KCMH) for each of those dates."
   ]
  },
  {
   "cell_type": "markdown",
   "metadata": {
    "slideshow": {
     "slide_type": "slide"
    }
   },
   "source": [
    "I used NOAA daily climate data for all days between 2009-2016, imported as a csv file from their website."
   ]
  },
  {
   "cell_type": "markdown",
   "metadata": {
    "slideshow": {
     "slide_type": "slide"
    }
   },
   "source": [
    "To load the csv, let's use pandas!"
   ]
  },
  {
   "cell_type": "code",
   "execution_count": 26,
   "metadata": {
    "collapsed": false,
    "slideshow": {
     "slide_type": "slide"
    }
   },
   "outputs": [],
   "source": [
    "import pandas as pd\n",
    "import numpy as np\n",
    "%matplotlib inline\n",
    "import matplotlib.pyplot as plt"
   ]
  },
  {
   "cell_type": "code",
   "execution_count": 337,
   "metadata": {
    "collapsed": false,
    "slideshow": {
     "slide_type": "slide"
    }
   },
   "outputs": [
    {
     "data": {
      "text/plain": [
       "'Loaded 2667 days of data'"
      ]
     },
     "execution_count": 337,
     "metadata": {},
     "output_type": "execute_result"
    }
   ],
   "source": [
    "weather_data = pd.read_csv(\"weather-data.csv\")\n",
    "\"Loaded %d days of data\" % len(weather_data)"
   ]
  },
  {
   "cell_type": "code",
   "execution_count": 319,
   "metadata": {
    "collapsed": false
   },
   "outputs": [
    {
     "data": {
      "text/html": [
       "<div>\n",
       "<table border=\"1\" class=\"dataframe\">\n",
       "  <thead>\n",
       "    <tr style=\"text-align: right;\">\n",
       "      <th></th>\n",
       "      <th>STATION</th>\n",
       "      <th>STATION_NAME</th>\n",
       "      <th>DATE</th>\n",
       "      <th>PRCP</th>\n",
       "      <th>SNWD</th>\n",
       "      <th>SNOW</th>\n",
       "      <th>TMAX</th>\n",
       "      <th>TMIN</th>\n",
       "      <th>WESD</th>\n",
       "      <th>AWND</th>\n",
       "      <th>...</th>\n",
       "      <th>WT02</th>\n",
       "      <th>WT11</th>\n",
       "      <th>WT22</th>\n",
       "      <th>WT04</th>\n",
       "      <th>WT13</th>\n",
       "      <th>WT16</th>\n",
       "      <th>WT08</th>\n",
       "      <th>WT18</th>\n",
       "      <th>WT03</th>\n",
       "      <th>WT19</th>\n",
       "    </tr>\n",
       "  </thead>\n",
       "  <tbody>\n",
       "    <tr>\n",
       "      <th>0</th>\n",
       "      <td>GHCND:USW00014821</td>\n",
       "      <td>COLUMBUS PORT COLUMBUS INTERNATIONAL AIRPORT O...</td>\n",
       "      <td>20090101</td>\n",
       "      <td>0.00</td>\n",
       "      <td>0.0</td>\n",
       "      <td>0.0</td>\n",
       "      <td>33</td>\n",
       "      <td>18</td>\n",
       "      <td>0.0</td>\n",
       "      <td>7.61</td>\n",
       "      <td>...</td>\n",
       "      <td>-9999</td>\n",
       "      <td>-9999</td>\n",
       "      <td>-9999</td>\n",
       "      <td>-9999</td>\n",
       "      <td>-9999</td>\n",
       "      <td>1</td>\n",
       "      <td>-9999</td>\n",
       "      <td>1</td>\n",
       "      <td>-9999</td>\n",
       "      <td>-9999</td>\n",
       "    </tr>\n",
       "    <tr>\n",
       "      <th>1</th>\n",
       "      <td>GHCND:USW00014821</td>\n",
       "      <td>COLUMBUS PORT COLUMBUS INTERNATIONAL AIRPORT O...</td>\n",
       "      <td>20090102</td>\n",
       "      <td>0.00</td>\n",
       "      <td>0.0</td>\n",
       "      <td>0.0</td>\n",
       "      <td>44</td>\n",
       "      <td>29</td>\n",
       "      <td>0.0</td>\n",
       "      <td>11.18</td>\n",
       "      <td>...</td>\n",
       "      <td>-9999</td>\n",
       "      <td>-9999</td>\n",
       "      <td>-9999</td>\n",
       "      <td>-9999</td>\n",
       "      <td>-9999</td>\n",
       "      <td>-9999</td>\n",
       "      <td>-9999</td>\n",
       "      <td>-9999</td>\n",
       "      <td>-9999</td>\n",
       "      <td>-9999</td>\n",
       "    </tr>\n",
       "    <tr>\n",
       "      <th>2</th>\n",
       "      <td>GHCND:USW00014821</td>\n",
       "      <td>COLUMBUS PORT COLUMBUS INTERNATIONAL AIRPORT O...</td>\n",
       "      <td>20090103</td>\n",
       "      <td>0.00</td>\n",
       "      <td>0.0</td>\n",
       "      <td>0.0</td>\n",
       "      <td>42</td>\n",
       "      <td>21</td>\n",
       "      <td>0.0</td>\n",
       "      <td>5.59</td>\n",
       "      <td>...</td>\n",
       "      <td>-9999</td>\n",
       "      <td>-9999</td>\n",
       "      <td>-9999</td>\n",
       "      <td>-9999</td>\n",
       "      <td>-9999</td>\n",
       "      <td>1</td>\n",
       "      <td>-9999</td>\n",
       "      <td>-9999</td>\n",
       "      <td>-9999</td>\n",
       "      <td>-9999</td>\n",
       "    </tr>\n",
       "    <tr>\n",
       "      <th>3</th>\n",
       "      <td>GHCND:USW00014821</td>\n",
       "      <td>COLUMBUS PORT COLUMBUS INTERNATIONAL AIRPORT O...</td>\n",
       "      <td>20090104</td>\n",
       "      <td>0.14</td>\n",
       "      <td>0.0</td>\n",
       "      <td>0.0</td>\n",
       "      <td>50</td>\n",
       "      <td>33</td>\n",
       "      <td>0.0</td>\n",
       "      <td>7.61</td>\n",
       "      <td>...</td>\n",
       "      <td>1</td>\n",
       "      <td>-9999</td>\n",
       "      <td>-9999</td>\n",
       "      <td>-9999</td>\n",
       "      <td>1</td>\n",
       "      <td>1</td>\n",
       "      <td>1</td>\n",
       "      <td>-9999</td>\n",
       "      <td>-9999</td>\n",
       "      <td>-9999</td>\n",
       "    </tr>\n",
       "    <tr>\n",
       "      <th>4</th>\n",
       "      <td>GHCND:USW00014821</td>\n",
       "      <td>COLUMBUS PORT COLUMBUS INTERNATIONAL AIRPORT O...</td>\n",
       "      <td>20090105</td>\n",
       "      <td>0.00</td>\n",
       "      <td>0.0</td>\n",
       "      <td>0.0</td>\n",
       "      <td>35</td>\n",
       "      <td>27</td>\n",
       "      <td>0.0</td>\n",
       "      <td>6.26</td>\n",
       "      <td>...</td>\n",
       "      <td>-9999</td>\n",
       "      <td>-9999</td>\n",
       "      <td>-9999</td>\n",
       "      <td>-9999</td>\n",
       "      <td>-9999</td>\n",
       "      <td>-9999</td>\n",
       "      <td>-9999</td>\n",
       "      <td>-9999</td>\n",
       "      <td>-9999</td>\n",
       "      <td>-9999</td>\n",
       "    </tr>\n",
       "  </tbody>\n",
       "</table>\n",
       "<p>5 rows × 35 columns</p>\n",
       "</div>"
      ],
      "text/plain": [
       "             STATION                                       STATION_NAME  \\\n",
       "0  GHCND:USW00014821  COLUMBUS PORT COLUMBUS INTERNATIONAL AIRPORT O...   \n",
       "1  GHCND:USW00014821  COLUMBUS PORT COLUMBUS INTERNATIONAL AIRPORT O...   \n",
       "2  GHCND:USW00014821  COLUMBUS PORT COLUMBUS INTERNATIONAL AIRPORT O...   \n",
       "3  GHCND:USW00014821  COLUMBUS PORT COLUMBUS INTERNATIONAL AIRPORT O...   \n",
       "4  GHCND:USW00014821  COLUMBUS PORT COLUMBUS INTERNATIONAL AIRPORT O...   \n",
       "\n",
       "       DATE  PRCP  SNWD  SNOW  TMAX  TMIN  WESD   AWND  ...   WT02  WT11  \\\n",
       "0  20090101  0.00   0.0   0.0    33    18   0.0   7.61  ...  -9999 -9999   \n",
       "1  20090102  0.00   0.0   0.0    44    29   0.0  11.18  ...  -9999 -9999   \n",
       "2  20090103  0.00   0.0   0.0    42    21   0.0   5.59  ...  -9999 -9999   \n",
       "3  20090104  0.14   0.0   0.0    50    33   0.0   7.61  ...      1 -9999   \n",
       "4  20090105  0.00   0.0   0.0    35    27   0.0   6.26  ...  -9999 -9999   \n",
       "\n",
       "   WT22  WT04  WT13  WT16  WT08  WT18  WT03  WT19  \n",
       "0 -9999 -9999 -9999     1 -9999     1 -9999 -9999  \n",
       "1 -9999 -9999 -9999 -9999 -9999 -9999 -9999 -9999  \n",
       "2 -9999 -9999 -9999     1 -9999 -9999 -9999 -9999  \n",
       "3 -9999 -9999     1     1     1 -9999 -9999 -9999  \n",
       "4 -9999 -9999 -9999 -9999 -9999 -9999 -9999 -9999  \n",
       "\n",
       "[5 rows x 35 columns]"
      ]
     },
     "execution_count": 319,
     "metadata": {},
     "output_type": "execute_result"
    }
   ],
   "source": [
    "weather_data.head()"
   ]
  },
  {
   "cell_type": "markdown",
   "metadata": {
    "slideshow": {
     "slide_type": "slide"
    }
   },
   "source": [
    "This dataset uses the value -9999 to indicate no value, replace this with numpy's nan. Normalize datetime string to actual datetime objects, and use it as the index."
   ]
  },
  {
   "cell_type": "code",
   "execution_count": 320,
   "metadata": {
    "collapsed": false
   },
   "outputs": [
    {
     "data": {
      "text/plain": [
       "RangeIndex(start=0, stop=2667, step=1)"
      ]
     },
     "execution_count": 320,
     "metadata": {},
     "output_type": "execute_result"
    }
   ],
   "source": [
    "weather_data.index"
   ]
  },
  {
   "cell_type": "code",
   "execution_count": null,
   "metadata": {
    "collapsed": false,
    "slideshow": {
     "slide_type": "fragment"
    }
   },
   "outputs": [],
   "source": [
    "weather_data.DATE = weather_data.DATE.apply(lambda x: parse_datetime(str(x)))\n",
    "weather_data[weather_data == -9999] = np.nan\n",
    "weather_data.set_index(['DATE'])"
   ]
  },
  {
   "cell_type": "code",
   "execution_count": 322,
   "metadata": {
    "collapsed": false
   },
   "outputs": [
    {
     "data": {
      "text/plain": [
       "'Loaded 2667 days of data'"
      ]
     },
     "execution_count": 322,
     "metadata": {},
     "output_type": "execute_result"
    }
   ],
   "source": [
    "weather_data = pd.read_csv(\"weather-data.csv\", parse_dates={'date': ['DATE']}, index_col='date')\n",
    "\"Loaded %d days of data\" % len(weather_data)"
   ]
  },
  {
   "cell_type": "code",
   "execution_count": 323,
   "metadata": {
    "collapsed": false
   },
   "outputs": [
    {
     "data": {
      "text/plain": [
       "DatetimeIndex(['2009-01-01', '2009-01-02', '2009-01-03', '2009-01-04',\n",
       "               '2009-01-05', '2009-01-06', '2009-01-07', '2009-01-08',\n",
       "               '2009-01-09', '2009-01-10',\n",
       "               ...\n",
       "               '2016-04-11', '2016-04-12', '2016-04-13', '2016-04-14',\n",
       "               '2016-04-15', '2016-04-16', '2016-04-17', '2016-04-18',\n",
       "               '2016-04-19', '2016-04-20'],\n",
       "              dtype='datetime64[ns]', name='date', length=2667, freq=None)"
      ]
     },
     "execution_count": 323,
     "metadata": {},
     "output_type": "execute_result"
    }
   ],
   "source": [
    "weather_data.index"
   ]
  },
  {
   "cell_type": "code",
   "execution_count": 343,
   "metadata": {
    "collapsed": false,
    "slideshow": {
     "slide_type": "slide"
    }
   },
   "outputs": [],
   "source": [
    "def get_temp(a_date):\n",
    "    if isinstance(a_date, str):\n",
    "        a_date = parse_datetime(a_date).date()\n",
    "    tmp = weather_data[weather_data.DATE == a_date].TMAX\n",
    "    try:\n",
    "        return float(tmp)\n",
    "    except TypeError:\n",
    "        if tmp.empty:\n",
    "            return None\n"
   ]
  },
  {
   "cell_type": "code",
   "execution_count": 344,
   "metadata": {
    "collapsed": false,
    "slideshow": {
     "slide_type": "slide"
    }
   },
   "outputs": [
    {
     "data": {
      "text/plain": [
       "22.0"
      ]
     },
     "execution_count": 344,
     "metadata": {},
     "output_type": "execute_result"
    }
   ],
   "source": [
    "get_temp(\"Jan 5, 2010\")"
   ]
  },
  {
   "cell_type": "code",
   "execution_count": 345,
   "metadata": {
    "collapsed": false,
    "slideshow": {
     "slide_type": "slide"
    }
   },
   "outputs": [
    {
     "name": "stdout",
     "output_type": "stream",
     "text": [
      "2016-04-25 ~ None\n",
      "2015-04-27 ~ 54.0\n",
      "2014-04-28 ~ 59.0\n",
      "2013-04-29 ~ 65.0\n",
      "2012-04-30 ~ 84.0\n",
      "2011-04-25 ~ 74.0\n",
      "2010-04-26 ~ 57.0\n"
     ]
    }
   ],
   "source": [
    "for april_date in DateFinder(\"april\"):\n",
    "    tmp = get_temp(april_date)\n",
    "    print(april_date.date(), \"~\", tmp)"
   ]
  },
  {
   "cell_type": "code",
   "execution_count": 350,
   "metadata": {
    "collapsed": false
   },
   "outputs": [
    {
     "name": "stdout",
     "output_type": "stream",
     "text": [
      "Jan:\n",
      "\t2016-01-25 ~ 46.0\n",
      "\t2015-01-26 ~ 27.0\n",
      "\t2014-01-27 ~ 42.0\n",
      "\t2013-01-28 ~ 51.0\n",
      "\t2012-01-30 ~ 50.0\n",
      "\t2011-01-31 ~ 32.0\n",
      "\t2010-01-25 ~ 49.0\n",
      "Feb:\n",
      "\t2016-02-29 ~ 57.0\n",
      "\t2015-02-23 ~ 19.0\n",
      "\t2014-02-24 ~ 34.0\n",
      "\t2013-02-25 ~ 46.0\n",
      "\t2012-02-27 ~ 58.0\n",
      "\t2011-02-28 ~ 63.0\n",
      "\t2010-02-22 ~ 40.0\n",
      "Mar:\n",
      "\t2016-03-28 ~ 59.0\n",
      "\t2015-03-30 ~ 57.0\n",
      "\t2014-03-31 ~ 65.0\n",
      "\t2013-03-25 ~ 36.0\n",
      "\t2012-03-26 ~ 52.0\n",
      "\t2011-03-28 ~ 42.0\n",
      "\t2010-03-29 ~ 50.0\n",
      "Apr:\n",
      "\t2015-04-27 ~ 54.0\n",
      "\t2014-04-28 ~ 59.0\n",
      "\t2013-04-29 ~ 65.0\n",
      "\t2012-04-30 ~ 84.0\n",
      "\t2011-04-25 ~ 74.0\n",
      "\t2010-04-26 ~ 57.0\n",
      "May:\n",
      "\t2015-05-18 ~ 79.0\n",
      "\t2014-05-19 ~ 71.0\n",
      "\t2013-05-20 ~ 86.0\n",
      "\t2012-05-21 ~ 87.0\n",
      "\t2011-05-23 ~ 82.0\n",
      "\t2010-05-24 ~ 83.0\n",
      "Jun:\n",
      "\t2015-06-29 ~ 66.0\n",
      "\t2014-06-30 ~ 87.0\n",
      "\t2013-06-24 ~ 87.0\n",
      "\t2012-06-25 ~ 80.0\n",
      "\t2011-06-27 ~ 83.0\n",
      "\t2010-06-28 ~ 85.0\n",
      "Jul:\n",
      "\t2015-07-27 ~ 87.0\n",
      "\t2014-07-28 ~ 76.0\n",
      "\t2013-07-29 ~ 76.0\n",
      "\t2012-07-30 ~ 90.0\n",
      "\t2011-07-25 ~ 89.0\n",
      "\t2010-07-26 ~ 83.0\n",
      "Aug:\n",
      "\t2015-08-31 ~ 86.0\n",
      "\t2014-08-25 ~ 87.0\n",
      "\t2013-08-26 ~ 90.0\n",
      "\t2012-08-27 ~ 84.0\n",
      "\t2011-08-29 ~ 78.0\n",
      "\t2010-08-30 ~ 93.0\n",
      "Sep:\n",
      "\t2015-09-28 ~ 82.0\n",
      "\t2014-09-29 ~ 84.0\n",
      "\t2013-09-30 ~ 75.0\n",
      "\t2012-09-24 ~ 68.0\n",
      "\t2011-09-26 ~ 70.0\n",
      "\t2010-09-27 ~ 61.0\n",
      "\t2009-09-28 ~ 65.0\n",
      "Oct:\n",
      "\t2015-10-26 ~ 62.0\n",
      "\t2014-10-27 ~ 79.0\n",
      "\t2013-10-28 ~ 62.0\n",
      "\t2012-10-29 ~ 41.0\n",
      "\t2011-10-31 ~ 52.0\n",
      "\t2010-10-25 ~ 71.0\n",
      "\t2009-10-26 ~ 67.0\n",
      "Nov:\n",
      "Dec:\n",
      "\t2015-12-07 ~ 51.0\n",
      "\t2014-12-08 ~ 45.0\n",
      "\t2013-12-09 ~ 35.0\n",
      "\t2012-12-03 ~ 63.0\n",
      "\t2011-12-05 ~ 53.0\n",
      "\t2010-12-06 ~ 25.0\n",
      "\t2009-12-07 ~ 35.0\n"
     ]
    }
   ],
   "source": [
    "for month in months:\n",
    "    print(\"%s:\" % month)\n",
    "    for next_date in DateFinder(month):\n",
    "        tmp = get_temp(next_date)\n",
    "        if tmp:\n",
    "            print(\"\\t%s ~ %.1f\" % (next_date.date(), tmp))"
   ]
  },
  {
   "cell_type": "markdown",
   "metadata": {},
   "source": [
    "# END HERE"
   ]
  },
  {
   "cell_type": "code",
   "execution_count": null,
   "metadata": {
    "collapsed": true
   },
   "outputs": [],
   "source": []
  },
  {
   "cell_type": "code",
   "execution_count": 13,
   "metadata": {
    "collapsed": true,
    "slideshow": {
     "slide_type": "slide"
    }
   },
   "outputs": [],
   "source": [
    "def get_pytemps(month_name):\n",
    "    \"\"\"Return the date, temperature pairs in for cohpy meetins in given month\"\"\"\n",
    "    for next_date in DateFinder(month_name):\n",
    "        yield next_date.date(), get_temp(next_date)"
   ]
  },
  {
   "cell_type": "code",
   "execution_count": 14,
   "metadata": {
    "collapsed": false,
    "slideshow": {
     "slide_type": "slide"
    }
   },
   "outputs": [
    {
     "data": {
      "text/plain": [
       "[(datetime.date(2016, 1, 25), 46.0),\n",
       " (datetime.date(2015, 1, 26), 27.0),\n",
       " (datetime.date(2014, 1, 27), 42.0),\n",
       " (datetime.date(2013, 1, 28), 51.0),\n",
       " (datetime.date(2012, 1, 30), 50.0),\n",
       " (datetime.date(2011, 1, 31), 32.0),\n",
       " (datetime.date(2010, 1, 25), 49.0)]"
      ]
     },
     "execution_count": 14,
     "metadata": {},
     "output_type": "execute_result"
    }
   ],
   "source": [
    "list(get_pytemps(\"jan\"))"
   ]
  },
  {
   "cell_type": "code",
   "execution_count": null,
   "metadata": {
    "collapsed": true
   },
   "outputs": [],
   "source": []
  },
  {
   "cell_type": "code",
   "execution_count": null,
   "metadata": {
    "collapsed": true
   },
   "outputs": [],
   "source": []
  },
  {
   "cell_type": "code",
   "execution_count": null,
   "metadata": {
    "collapsed": true
   },
   "outputs": [],
   "source": []
  },
  {
   "cell_type": "code",
   "execution_count": null,
   "metadata": {
    "collapsed": true
   },
   "outputs": [],
   "source": []
  },
  {
   "cell_type": "code",
   "execution_count": null,
   "metadata": {
    "collapsed": true
   },
   "outputs": [],
   "source": []
  },
  {
   "cell_type": "markdown",
   "metadata": {
    "slideshow": {
     "slide_type": "slide"
    }
   },
   "source": [
    "# Part Three\n",
    "\n",
    "### Predict the temperature of the 2016 May COhPy meeting"
   ]
  },
  {
   "cell_type": "code",
   "execution_count": 136,
   "metadata": {
    "collapsed": true
   },
   "outputs": [],
   "source": [
    "import lmfit\n",
    "from operator import attrgetter\n"
   ]
  },
  {
   "cell_type": "markdown",
   "metadata": {
    "slideshow": {
     "slide_type": "slide"
    }
   },
   "source": [
    "Due to time constraints, I will just use max temperatures in my prediction formula."
   ]
  },
  {
   "cell_type": "markdown",
   "metadata": {
    "slideshow": {
     "slide_type": "slide"
    }
   },
   "source": [
    "#### Method:\n",
    "   * Use weighted average of previous year's temperatures to predict future temperature.\n"
   ]
  },
  {
   "cell_type": "markdown",
   "metadata": {
    "slideshow": {
     "slide_type": "skip"
    }
   },
   "source": [
    "   \n",
    "   generate a 'prediction vector' that, when multiplied by vector of previous temperatures, predicts the next.\n",
    "\n",
    "prediction vector:\n",
    "$$\\vec{\\alpha} = \\alpha_1, \\alpha_2, ... \\alpha_n$$\n",
    "\n",
    "temperature vector:\n",
    "$$\\vec{\\tau} = \\tau_1, \\tau_2, \\cdots, \\tau_n$$\n",
    "where\n",
    "$$ \\tau_1 \\equiv \\text{temp}_\\text{yesterday} \\\\\n",
    "   \\tau_2 \\equiv temp_\\text{2 days ago}\\\\\n",
    "   \\tau_n = temp_\\text{n days ago}$$"
   ]
  },
  {
   "cell_type": "code",
   "execution_count": 333,
   "metadata": {
    "collapsed": false
   },
   "outputs": [],
   "source": [
    "def temp_from_day(date):\n",
    "    date = parse_datetime(date) if isinstance(date, str) else date\n",
    "    return weather_data.TMAX[weather_data.DATE == date.date()]"
   ]
  },
  {
   "cell_type": "code",
   "execution_count": 270,
   "metadata": {
    "collapsed": true
   },
   "outputs": [],
   "source": [
    "x = np.ones(6)\n",
    "y = np.zeros(8)"
   ]
  },
  {
   "cell_type": "code",
   "execution_count": 272,
   "metadata": {
    "collapsed": false
   },
   "outputs": [],
   "source": [
    "DATE_WIDTH = 16\n",
    "DATE_WIDTH_LEN = 2 * DATE_WIDTH - 1\n",
    "\n",
    "def prev_year_data(date):\n",
    "    date = parse_datetime(date) if isinstance(date, str) else date\n",
    "    date = date.date() - timedelta(365)\n",
    "    \n",
    "    delta = timedelta(DATE_WIDTH)\n",
    "    \n",
    "    mask = (date - delta < weather_data.DATE) & (weather_data.DATE < date + delta)\n",
    "    return np.array(weather_data.TMAX[mask], dtype=float)\n",
    "\n",
    "DEFAULT_GUESS = np.ones(DATE_WIDTH_LEN)\n",
    "DEFAULT_GUESS[DATE_WIDTH] = 1\n"
   ]
  },
  {
   "cell_type": "code",
   "execution_count": 273,
   "metadata": {
    "collapsed": false
   },
   "outputs": [],
   "source": [
    "tmp_params = lmfit.Parameters()\n",
    "for i, v in enumerate(DEFAULT_GUESS):\n",
    "    tmp_params.add(\"alpha_%d\" % i, value=v)"
   ]
  },
  {
   "cell_type": "code",
   "execution_count": 274,
   "metadata": {
    "collapsed": false
   },
   "outputs": [],
   "source": [
    "def fit_temps(p, temps, expected=None):\n",
    "    alpha = np.array(list(v.value for k, v in p.items() if k.startswith(\"alpha\")))\n",
    "    if np.ndim(temps) > 1:\n",
    "        model = [np.average(alpha * t) for t in temps]\n",
    "    else:\n",
    "        model = np.average(alpha * temps) \n",
    "    if expected is not None:\n",
    "        return expected - model\n",
    "    return float(model)"
   ]
  },
  {
   "cell_type": "code",
   "execution_count": 289,
   "metadata": {
    "collapsed": false
   },
   "outputs": [],
   "source": [
    "start_date = parse_datetime('May 1, 2015')\n",
    "\n",
    "expected_temperatures = []\n",
    "past_temperatures = []\n",
    "\n",
    "for i in range(DATE_WIDTH * 3):\n",
    "    date = start_date + timedelta(i)\n",
    "    expected_temperatures.append(float(temp_from_day(date)))\n",
    "    past_temperatures.append(prev_year_data(date))\n",
    "\n",
    "expected_temperatures = np.array(expected_temperatures)\n",
    "past_temperatures = np.array(past_temperatures)"
   ]
  },
  {
   "cell_type": "code",
   "execution_count": 290,
   "metadata": {
    "collapsed": false
   },
   "outputs": [],
   "source": [
    "fit = lmfit.minimize(fit_temps, tmp_params, args=(past_temperatures, expected_temperatures))"
   ]
  },
  {
   "cell_type": "code",
   "execution_count": 299,
   "metadata": {
    "collapsed": false
   },
   "outputs": [
    {
     "data": {
      "text/plain": [
       "87.331843632601959"
      ]
     },
     "execution_count": 299,
     "metadata": {},
     "output_type": "execute_result"
    }
   ],
   "source": [
    "fit.chisqr / (fit.ndata - fit.nvarys)\n",
    "# lmfit.report_fit(fit)"
   ]
  },
  {
   "cell_type": "code",
   "execution_count": 294,
   "metadata": {
    "collapsed": false
   },
   "outputs": [
    {
     "data": {
      "text/plain": [
       "(85.0, 90.02999303210876)"
      ]
     },
     "execution_count": 294,
     "metadata": {},
     "output_type": "execute_result"
    }
   ],
   "source": [
    "temp_from_day('May 22, 2011'), fit_temps(fit.params, prev_year_data('May 22, 2011'))\n",
    "# np.ndim(prev_year_data('may 22, 2016'))\n",
    "# past_temperatures"
   ]
  },
  {
   "cell_type": "code",
   "execution_count": 293,
   "metadata": {
    "collapsed": false
   },
   "outputs": [
    {
     "data": {
      "text/plain": [
       "84.62561480900477"
      ]
     },
     "execution_count": 293,
     "metadata": {},
     "output_type": "execute_result"
    }
   ],
   "source": [
    "fit_temps(fit.params, prev_year_data('May 23, 2016'))\n"
   ]
  },
  {
   "cell_type": "code",
   "execution_count": 303,
   "metadata": {
    "collapsed": false
   },
   "outputs": [
    {
     "ename": "TypeError",
     "evalue": "int() argument must be a string, a bytes-like object or a number, not 'datetime.date'",
     "output_type": "error",
     "traceback": [
      "\u001b[0;31m---------------------------------------------------------------------------\u001b[0m",
      "\u001b[0;31mTypeError\u001b[0m                                 Traceback (most recent call last)",
      "\u001b[0;32m<ipython-input-303-ad1258b1d1b4>\u001b[0m in \u001b[0;36m<module>\u001b[0;34m()\u001b[0m\n\u001b[1;32m      2\u001b[0m     \u001b[0mdate\u001b[0m \u001b[0;34m=\u001b[0m \u001b[0mparse_datetime\u001b[0m\u001b[0;34m(\u001b[0m\u001b[0mdate\u001b[0m\u001b[0;34m)\u001b[0m \u001b[0;32mif\u001b[0m \u001b[0misinstance\u001b[0m\u001b[0;34m(\u001b[0m\u001b[0mdate\u001b[0m\u001b[0;34m,\u001b[0m \u001b[0mstr\u001b[0m\u001b[0;34m)\u001b[0m \u001b[0;32melse\u001b[0m \u001b[0mdate\u001b[0m\u001b[0;34m\u001b[0m\u001b[0m\n\u001b[1;32m      3\u001b[0m     \u001b[0;32mreturn\u001b[0m \u001b[0mweather_data\u001b[0m\u001b[0;34m.\u001b[0m\u001b[0mindex\u001b[0m\u001b[0;34m[\u001b[0m\u001b[0mdate\u001b[0m\u001b[0;34m.\u001b[0m\u001b[0mdate\u001b[0m\u001b[0;34m(\u001b[0m\u001b[0;34m)\u001b[0m\u001b[0;34m]\u001b[0m\u001b[0;34m\u001b[0m\u001b[0m\n\u001b[0;32m----> 4\u001b[0;31m \u001b[0mtest_data_for\u001b[0m\u001b[0;34m(\u001b[0m\u001b[0;34m\"april 1, 2016\"\u001b[0m\u001b[0;34m)\u001b[0m\u001b[0;34m\u001b[0m\u001b[0m\n\u001b[0m",
      "\u001b[0;32m<ipython-input-303-ad1258b1d1b4>\u001b[0m in \u001b[0;36mtest_data_for\u001b[0;34m(date)\u001b[0m\n\u001b[1;32m      1\u001b[0m \u001b[0;32mdef\u001b[0m \u001b[0mtest_data_for\u001b[0m\u001b[0;34m(\u001b[0m\u001b[0mdate\u001b[0m\u001b[0;34m)\u001b[0m\u001b[0;34m:\u001b[0m\u001b[0;34m\u001b[0m\u001b[0m\n\u001b[1;32m      2\u001b[0m     \u001b[0mdate\u001b[0m \u001b[0;34m=\u001b[0m \u001b[0mparse_datetime\u001b[0m\u001b[0;34m(\u001b[0m\u001b[0mdate\u001b[0m\u001b[0;34m)\u001b[0m \u001b[0;32mif\u001b[0m \u001b[0misinstance\u001b[0m\u001b[0;34m(\u001b[0m\u001b[0mdate\u001b[0m\u001b[0;34m,\u001b[0m \u001b[0mstr\u001b[0m\u001b[0;34m)\u001b[0m \u001b[0;32melse\u001b[0m \u001b[0mdate\u001b[0m\u001b[0;34m\u001b[0m\u001b[0m\n\u001b[0;32m----> 3\u001b[0;31m     \u001b[0;32mreturn\u001b[0m \u001b[0mweather_data\u001b[0m\u001b[0;34m.\u001b[0m\u001b[0mindex\u001b[0m\u001b[0;34m[\u001b[0m\u001b[0mdate\u001b[0m\u001b[0;34m.\u001b[0m\u001b[0mdate\u001b[0m\u001b[0;34m(\u001b[0m\u001b[0;34m)\u001b[0m\u001b[0;34m]\u001b[0m\u001b[0;34m\u001b[0m\u001b[0m\n\u001b[0m\u001b[1;32m      4\u001b[0m \u001b[0mtest_data_for\u001b[0m\u001b[0;34m(\u001b[0m\u001b[0;34m\"april 1, 2016\"\u001b[0m\u001b[0;34m)\u001b[0m\u001b[0;34m\u001b[0m\u001b[0m\n",
      "\u001b[0;32m/opt/local/Library/Frameworks/Python.framework/Versions/3.5/lib/python3.5/site-packages/pandas/indexes/range.py\u001b[0m in \u001b[0;36m__getitem__\u001b[0;34m(self, key)\u001b[0m\n\u001b[1;32m    443\u001b[0m \u001b[0;34m\u001b[0m\u001b[0m\n\u001b[1;32m    444\u001b[0m         \u001b[0;32mif\u001b[0m \u001b[0mlib\u001b[0m\u001b[0;34m.\u001b[0m\u001b[0misscalar\u001b[0m\u001b[0;34m(\u001b[0m\u001b[0mkey\u001b[0m\u001b[0;34m)\u001b[0m\u001b[0;34m:\u001b[0m\u001b[0;34m\u001b[0m\u001b[0m\n\u001b[0;32m--> 445\u001b[0;31m             \u001b[0mn\u001b[0m \u001b[0;34m=\u001b[0m \u001b[0mint\u001b[0m\u001b[0;34m(\u001b[0m\u001b[0mkey\u001b[0m\u001b[0;34m)\u001b[0m\u001b[0;34m\u001b[0m\u001b[0m\n\u001b[0m\u001b[1;32m    446\u001b[0m             \u001b[0;32mif\u001b[0m \u001b[0mn\u001b[0m \u001b[0;34m!=\u001b[0m \u001b[0mkey\u001b[0m\u001b[0;34m:\u001b[0m\u001b[0;34m\u001b[0m\u001b[0m\n\u001b[1;32m    447\u001b[0m                 \u001b[0;32mreturn\u001b[0m \u001b[0msuper_getitem\u001b[0m\u001b[0;34m(\u001b[0m\u001b[0mkey\u001b[0m\u001b[0;34m)\u001b[0m\u001b[0;34m\u001b[0m\u001b[0m\n",
      "\u001b[0;31mTypeError\u001b[0m: int() argument must be a string, a bytes-like object or a number, not 'datetime.date'"
     ]
    }
   ],
   "source": [
    "def test_data_for(date):\n",
    "    date = parse_datetime(date) if isinstance(date, str) else date\n",
    "    return weather_data.index[date.date()]\n",
    "test_data_for(\"april 1, 2016\")"
   ]
  },
  {
   "cell_type": "code",
   "execution_count": 304,
   "metadata": {
    "collapsed": false
   },
   "outputs": [
    {
     "data": {
      "text/html": [
       "<div>\n",
       "<table border=\"1\" class=\"dataframe\">\n",
       "  <thead>\n",
       "    <tr style=\"text-align: right;\">\n",
       "      <th></th>\n",
       "      <th>STATION</th>\n",
       "      <th>STATION_NAME</th>\n",
       "      <th>DATE</th>\n",
       "      <th>PRCP</th>\n",
       "      <th>SNWD</th>\n",
       "      <th>SNOW</th>\n",
       "      <th>TMAX</th>\n",
       "      <th>TMIN</th>\n",
       "      <th>WESD</th>\n",
       "      <th>AWND</th>\n",
       "      <th>...</th>\n",
       "      <th>WT02</th>\n",
       "      <th>WT11</th>\n",
       "      <th>WT22</th>\n",
       "      <th>WT04</th>\n",
       "      <th>WT13</th>\n",
       "      <th>WT16</th>\n",
       "      <th>WT08</th>\n",
       "      <th>WT18</th>\n",
       "      <th>WT03</th>\n",
       "      <th>WT19</th>\n",
       "    </tr>\n",
       "  </thead>\n",
       "  <tbody>\n",
       "    <tr>\n",
       "      <th>0</th>\n",
       "      <td>GHCND:USW00014821</td>\n",
       "      <td>COLUMBUS PORT COLUMBUS INTERNATIONAL AIRPORT O...</td>\n",
       "      <td>2009-01-01</td>\n",
       "      <td>0.00</td>\n",
       "      <td>0.0</td>\n",
       "      <td>0.0</td>\n",
       "      <td>33</td>\n",
       "      <td>18</td>\n",
       "      <td>0.0</td>\n",
       "      <td>7.61</td>\n",
       "      <td>...</td>\n",
       "      <td>NaN</td>\n",
       "      <td>NaN</td>\n",
       "      <td>NaN</td>\n",
       "      <td>NaN</td>\n",
       "      <td>NaN</td>\n",
       "      <td>1.0</td>\n",
       "      <td>NaN</td>\n",
       "      <td>1.0</td>\n",
       "      <td>NaN</td>\n",
       "      <td>NaN</td>\n",
       "    </tr>\n",
       "    <tr>\n",
       "      <th>1</th>\n",
       "      <td>GHCND:USW00014821</td>\n",
       "      <td>COLUMBUS PORT COLUMBUS INTERNATIONAL AIRPORT O...</td>\n",
       "      <td>2009-01-02</td>\n",
       "      <td>0.00</td>\n",
       "      <td>0.0</td>\n",
       "      <td>0.0</td>\n",
       "      <td>44</td>\n",
       "      <td>29</td>\n",
       "      <td>0.0</td>\n",
       "      <td>11.18</td>\n",
       "      <td>...</td>\n",
       "      <td>NaN</td>\n",
       "      <td>NaN</td>\n",
       "      <td>NaN</td>\n",
       "      <td>NaN</td>\n",
       "      <td>NaN</td>\n",
       "      <td>NaN</td>\n",
       "      <td>NaN</td>\n",
       "      <td>NaN</td>\n",
       "      <td>NaN</td>\n",
       "      <td>NaN</td>\n",
       "    </tr>\n",
       "    <tr>\n",
       "      <th>2</th>\n",
       "      <td>GHCND:USW00014821</td>\n",
       "      <td>COLUMBUS PORT COLUMBUS INTERNATIONAL AIRPORT O...</td>\n",
       "      <td>2009-01-03</td>\n",
       "      <td>0.00</td>\n",
       "      <td>0.0</td>\n",
       "      <td>0.0</td>\n",
       "      <td>42</td>\n",
       "      <td>21</td>\n",
       "      <td>0.0</td>\n",
       "      <td>5.59</td>\n",
       "      <td>...</td>\n",
       "      <td>NaN</td>\n",
       "      <td>NaN</td>\n",
       "      <td>NaN</td>\n",
       "      <td>NaN</td>\n",
       "      <td>NaN</td>\n",
       "      <td>1.0</td>\n",
       "      <td>NaN</td>\n",
       "      <td>NaN</td>\n",
       "      <td>NaN</td>\n",
       "      <td>NaN</td>\n",
       "    </tr>\n",
       "    <tr>\n",
       "      <th>3</th>\n",
       "      <td>GHCND:USW00014821</td>\n",
       "      <td>COLUMBUS PORT COLUMBUS INTERNATIONAL AIRPORT O...</td>\n",
       "      <td>2009-01-04</td>\n",
       "      <td>0.14</td>\n",
       "      <td>0.0</td>\n",
       "      <td>0.0</td>\n",
       "      <td>50</td>\n",
       "      <td>33</td>\n",
       "      <td>0.0</td>\n",
       "      <td>7.61</td>\n",
       "      <td>...</td>\n",
       "      <td>1.0</td>\n",
       "      <td>NaN</td>\n",
       "      <td>NaN</td>\n",
       "      <td>NaN</td>\n",
       "      <td>1.0</td>\n",
       "      <td>1.0</td>\n",
       "      <td>1.0</td>\n",
       "      <td>NaN</td>\n",
       "      <td>NaN</td>\n",
       "      <td>NaN</td>\n",
       "    </tr>\n",
       "    <tr>\n",
       "      <th>4</th>\n",
       "      <td>GHCND:USW00014821</td>\n",
       "      <td>COLUMBUS PORT COLUMBUS INTERNATIONAL AIRPORT O...</td>\n",
       "      <td>2009-01-05</td>\n",
       "      <td>0.00</td>\n",
       "      <td>0.0</td>\n",
       "      <td>0.0</td>\n",
       "      <td>35</td>\n",
       "      <td>27</td>\n",
       "      <td>0.0</td>\n",
       "      <td>6.26</td>\n",
       "      <td>...</td>\n",
       "      <td>NaN</td>\n",
       "      <td>NaN</td>\n",
       "      <td>NaN</td>\n",
       "      <td>NaN</td>\n",
       "      <td>NaN</td>\n",
       "      <td>NaN</td>\n",
       "      <td>NaN</td>\n",
       "      <td>NaN</td>\n",
       "      <td>NaN</td>\n",
       "      <td>NaN</td>\n",
       "    </tr>\n",
       "  </tbody>\n",
       "</table>\n",
       "<p>5 rows × 35 columns</p>\n",
       "</div>"
      ],
      "text/plain": [
       "             STATION                                       STATION_NAME  \\\n",
       "0  GHCND:USW00014821  COLUMBUS PORT COLUMBUS INTERNATIONAL AIRPORT O...   \n",
       "1  GHCND:USW00014821  COLUMBUS PORT COLUMBUS INTERNATIONAL AIRPORT O...   \n",
       "2  GHCND:USW00014821  COLUMBUS PORT COLUMBUS INTERNATIONAL AIRPORT O...   \n",
       "3  GHCND:USW00014821  COLUMBUS PORT COLUMBUS INTERNATIONAL AIRPORT O...   \n",
       "4  GHCND:USW00014821  COLUMBUS PORT COLUMBUS INTERNATIONAL AIRPORT O...   \n",
       "\n",
       "        DATE  PRCP  SNWD  SNOW  TMAX  TMIN  WESD   AWND  ...   WT02  WT11  \\\n",
       "0 2009-01-01  0.00   0.0   0.0    33    18   0.0   7.61  ...    NaN   NaN   \n",
       "1 2009-01-02  0.00   0.0   0.0    44    29   0.0  11.18  ...    NaN   NaN   \n",
       "2 2009-01-03  0.00   0.0   0.0    42    21   0.0   5.59  ...    NaN   NaN   \n",
       "3 2009-01-04  0.14   0.0   0.0    50    33   0.0   7.61  ...    1.0   NaN   \n",
       "4 2009-01-05  0.00   0.0   0.0    35    27   0.0   6.26  ...    NaN   NaN   \n",
       "\n",
       "   WT22  WT04  WT13  WT16  WT08  WT18  WT03  WT19  \n",
       "0   NaN   NaN   NaN   1.0   NaN   1.0   NaN   NaN  \n",
       "1   NaN   NaN   NaN   NaN   NaN   NaN   NaN   NaN  \n",
       "2   NaN   NaN   NaN   1.0   NaN   NaN   NaN   NaN  \n",
       "3   NaN   NaN   1.0   1.0   1.0   NaN   NaN   NaN  \n",
       "4   NaN   NaN   NaN   NaN   NaN   NaN   NaN   NaN  \n",
       "\n",
       "[5 rows x 35 columns]"
      ]
     },
     "execution_count": 304,
     "metadata": {},
     "output_type": "execute_result"
    }
   ],
   "source": [
    "weather_data.head()"
   ]
  },
  {
   "cell_type": "markdown",
   "metadata": {
    "slideshow": {
     "slide_type": "slide"
    }
   },
   "source": [
    "To use as much of the data as we can, I will use scikit.learn to find correlations for me"
   ]
  },
  {
   "cell_type": "code",
   "execution_count": 15,
   "metadata": {
    "collapsed": false,
    "slideshow": {
     "slide_type": "slide"
    }
   },
   "outputs": [],
   "source": [
    "from sklearn.tree import DecisionTreeRegressor"
   ]
  },
  {
   "cell_type": "code",
   "execution_count": 16,
   "metadata": {
    "collapsed": true
   },
   "outputs": [],
   "source": [
    "?DecisionTreeRegressor"
   ]
  },
  {
   "cell_type": "code",
   "execution_count": 17,
   "metadata": {
    "collapsed": true
   },
   "outputs": [],
   "source": [
    "from sklearn.ensemble import GradientBoostingClassifier"
   ]
  },
  {
   "cell_type": "code",
   "execution_count": 28,
   "metadata": {
    "collapsed": false
   },
   "outputs": [
    {
     "data": {
      "text/plain": [
       "<matplotlib.axes._subplots.AxesSubplot at 0x11a00ba58>"
      ]
     },
     "execution_count": 28,
     "metadata": {},
     "output_type": "execute_result"
    },
    {
     "data": {
      "image/png": "[encoded data removed]",
      "text/plain": [
       "<matplotlib.figure.Figure at 0x119ff0cf8>"
      ]
     },
     "metadata": {},
     "output_type": "display_data"
    }
   ],
   "source": [
    "(weather_data.TMAX - weather_data.TMIN).plot()"
   ]
  },
  {
   "cell_type": "code",
   "execution_count": 30,
   "metadata": {
    "collapsed": false
   },
   "outputs": [],
   "source": [
    "sp = np.fftd .fft (weather_data.TMAX)\n"
   ]
  },
  {
   "cell_type": "code",
   "execution_count": 22,
   "metadata": {
    "collapsed": true
   },
   "outputs": [],
   "source": [
    "%matplotlib inline\n",
    "plt.show()"
   ]
  },
  {
   "cell_type": "code",
   "execution_count": 34,
   "metadata": {
    "collapsed": false
   },
   "outputs": [],
   "source": [
    "sp = np.fft.fft(weather_data.TMAX)\n",
    "freq = np.fft.fftfreq(weather_data.TMAX.shape[-1])"
   ]
  },
  {
   "cell_type": "code",
   "execution_count": 40,
   "metadata": {
    "collapsed": false
   },
   "outputs": [
    {
     "data": {
      "text/plain": [
       "[<matplotlib.lines.Line2D at 0x119e3c6a0>,\n",
       " <matplotlib.lines.Line2D at 0x119e3cfd0>]"
      ]
     },
     "execution_count": 40,
     "metadata": {},
     "output_type": "execute_result"
    },
    {
     "data": {
      "image/png": "[encoded data removed]",
      "text/plain": [
       "<matplotlib.figure.Figure at 0x119e5c390>"
      ]
     },
     "metadata": {},
     "output_type": "display_data"
    }
   ],
   "source": [
    "subset = slice(666, 1332)\n",
    "plt.plot(freq[subset], sp.real[subset], freq[subset], sp.imag[subset])"
   ]
  },
  {
   "cell_type": "code",
   "execution_count": 42,
   "metadata": {
    "collapsed": false
   },
   "outputs": [
    {
     "data": {
      "text/plain": [
       "[<matplotlib.lines.Line2D at 0x11a311b70>]"
      ]
     },
     "execution_count": 42,
     "metadata": {},
     "output_type": "execute_result"
    },
    {
     "data": {
      "image/png": "[encoded data removed]",
      "text/plain": [
       "<matplotlib.figure.Figure at 0x119c6bcf8>"
      ]
     },
     "metadata": {},
     "output_type": "display_data"
    }
   ],
   "source": [
    "plt.plot(freq, sp.real)"
   ]
  },
  {
   "cell_type": "code",
   "execution_count": 39,
   "metadata": {
    "collapsed": false
   },
   "outputs": [
    {
     "data": {
      "text/plain": [
       "(2667, 2667)"
      ]
     },
     "execution_count": 39,
     "metadata": {},
     "output_type": "execute_result"
    }
   ],
   "source": [
    "len(sp.real), len(freq)"
   ]
  },
  {
   "cell_type": "code",
   "execution_count": 69,
   "metadata": {
    "collapsed": false
   },
   "outputs": [
    {
     "data": {
      "text/plain": [
       "Timestamp('2011-09-28 00:00:00')"
      ]
     },
     "execution_count": 69,
     "metadata": {},
     "output_type": "execute_result"
    }
   ],
   "source": [
    "weather_data.DATE[1000]"
   ]
  },
  {
   "cell_type": "code",
   "execution_count": 43,
   "metadata": {
    "collapsed": false
   },
   "outputs": [
    {
     "data": {
      "text/plain": [
       "numpy.ndarray"
      ]
     },
     "execution_count": 43,
     "metadata": {},
     "output_type": "execute_result"
    }
   ],
   "source": [
    "type(sp.real)"
   ]
  },
  {
   "cell_type": "code",
   "execution_count": 46,
   "metadata": {
    "collapsed": false
   },
   "outputs": [],
   "source": [
    "fft_df = pd.DataFrame(dict(freq=freq, real=sp.real, imag=sp.imag))"
   ]
  },
  {
   "cell_type": "code",
   "execution_count": 49,
   "metadata": {
    "collapsed": false
   },
   "outputs": [],
   "source": [
    "max_temps = weather_data.TMAX"
   ]
  },
  {
   "cell_type": "code",
   "execution_count": 52,
   "metadata": {
    "collapsed": true
   },
   "outputs": [],
   "source": [
    "import lmfit"
   ]
  },
  {
   "cell_type": "code",
   "execution_count": 56,
   "metadata": {
    "collapsed": true
   },
   "outputs": [],
   "source": [
    "N = 4"
   ]
  },
  {
   "cell_type": "code",
   "execution_count": 67,
   "metadata": {
    "collapsed": false
   },
   "outputs": [
    {
     "data": {
      "text/plain": [
       "65"
      ]
     },
     "execution_count": 67,
     "metadata": {},
     "output_type": "execute_result"
    }
   ],
   "source": [
    "p = 1000\n",
    "tmp = max_temps[p-N:p]\n",
    "max_temps[p]"
   ]
  },
  {
   "cell_type": "code",
   "execution_count": 70,
   "metadata": {
    "collapsed": false
   },
   "outputs": [
    {
     "data": {
      "text/plain": [
       "Timestamp('2010-09-28 00:00:00')"
      ]
     },
     "execution_count": 70,
     "metadata": {},
     "output_type": "execute_result"
    }
   ],
   "source": [
    "weather_data.DATE[1000-365]"
   ]
  },
  {
   "cell_type": "code",
   "execution_count": null,
   "metadata": {
    "collapsed": true
   },
   "outputs": [],
   "source": []
  }
 ],
 "metadata": {
  "celltoolbar": "Slideshow",
  "kernelspec": {
   "display_name": "Python 3",
   "language": "python",
   "name": "python3"
  },
  "language_info": {
   "codemirror_mode": {
    "name": "ipython",
    "version": 3
   },
   "file_extension": ".py",
   "mimetype": "text/x-python",
   "name": "python",
   "nbconvert_exporter": "python",
   "pygments_lexer": "ipython3",
   "version": "3.5.1"
  }
 },
 "nbformat": 4,
 "nbformat_minor": 0
}
