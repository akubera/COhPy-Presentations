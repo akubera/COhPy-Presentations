{
 "cells": [
  {
   "cell_type": "code",
   "execution_count": 1,
   "metadata": {},
   "outputs": [
    {
     "name": "stdout",
     "output_type": "stream",
     "text": [
      "3.10.0a6 (default, Mar  4 2021, 21:04:54) [GCC 10.2.0]\n"
     ]
    }
   ],
   "source": [
    "import sys\n",
    "print(sys.version)"
   ]
  },
  {
   "cell_type": "code",
   "execution_count": 2,
   "metadata": {},
   "outputs": [],
   "source": [
    "class MatchHack:\n",
    "    __match_args__ = ['value', 'python', 'rust']\n",
    "\n",
    "    def __init__(self, value):\n",
    "        self.value = value\n",
    "        \n",
    "    def matchit(self):\n",
    "        match self:\n",
    "            case MatchHack(x, python=True):\n",
    "                print(\"It's Python!\", x)\n",
    "            case MatchHack(x, rust=True):\n",
    "                print(\"It's Rust!\", x)\n",
    "            case MatchHack(x, python=p):\n",
    "                print(\"Python =\", p)\n",
    "            case MatchHack(x, rust=r):\n",
    "                print(\"Rust =\", r)\n",
    "            case MatchHack(val):\n",
    "                print(\"Default Value\", val)"
   ]
  },
  {
   "cell_type": "code",
   "execution_count": 3,
   "metadata": {},
   "outputs": [
    {
     "name": "stdout",
     "output_type": "stream",
     "text": [
      "Default Value 1\n"
     ]
    }
   ],
   "source": [
    "m = MatchHack(1)\n",
    "m.matchit()"
   ]
  },
  {
   "cell_type": "code",
   "execution_count": 4,
   "metadata": {},
   "outputs": [
    {
     "name": "stdout",
     "output_type": "stream",
     "text": [
      "It's Python! 10\n"
     ]
    }
   ],
   "source": [
    "m = MatchHack(10)\n",
    "m.python = True\n",
    "m.matchit()"
   ]
  },
  {
   "cell_type": "code",
   "execution_count": 5,
   "metadata": {},
   "outputs": [
    {
     "name": "stdout",
     "output_type": "stream",
     "text": [
      "It's Rust! 20\n"
     ]
    }
   ],
   "source": [
    "m = MatchHack(20)\n",
    "m.rust = True\n",
    "m.matchit()"
   ]
  },
  {
   "cell_type": "code",
   "execution_count": 6,
   "metadata": {},
   "outputs": [
    {
     "name": "stdout",
     "output_type": "stream",
     "text": [
      "Python = PYTHON\n"
     ]
    }
   ],
   "source": [
    "m = MatchHack(20)\n",
    "m.python = 'PYTHON'\n",
    "m.matchit()"
   ]
  },
  {
   "cell_type": "code",
   "execution_count": 7,
   "metadata": {},
   "outputs": [
    {
     "name": "stdout",
     "output_type": "stream",
     "text": [
      "Rust = RUST\n"
     ]
    }
   ],
   "source": [
    "m = MatchHack(20)\n",
    "m.rust = 'RUST'\n",
    "m.matchit()"
   ]
  },
  {
   "cell_type": "code",
   "execution_count": null,
   "metadata": {},
   "outputs": [],
   "source": []
  },
  {
   "cell_type": "code",
   "execution_count": null,
   "metadata": {},
   "outputs": [],
   "source": []
  },
  {
   "cell_type": "code",
   "execution_count": null,
   "metadata": {},
   "outputs": [],
   "source": []
  },
  {
   "cell_type": "code",
   "execution_count": null,
   "metadata": {},
   "outputs": [],
   "source": []
  },
  {
   "cell_type": "code",
   "execution_count": null,
   "metadata": {},
   "outputs": [],
   "source": []
  }
 ],
 "metadata": {
  "kernelspec": {
   "display_name": "Python 3",
   "language": "python",
   "name": "python3"
  },
  "language_info": {
   "codemirror_mode": {
    "name": "ipython",
    "version": 3
   },
   "file_extension": ".py",
   "mimetype": "text/x-python",
   "name": "python",
   "nbconvert_exporter": "python",
   "pygments_lexer": "ipython3",
   "version": "3.10.0a6"
  }
 },
 "nbformat": 4,
 "nbformat_minor": 4
}
